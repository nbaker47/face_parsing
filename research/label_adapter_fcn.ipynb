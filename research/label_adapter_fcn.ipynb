{
 "cells": [
  {
   "cell_type": "code",
   "execution_count": 1,
   "metadata": {},
   "outputs": [],
   "source": [
    "os.environ['CUDA_LAUNCH_BLOCKING'] = \"1\""
   ]
  },
  {
   "cell_type": "markdown",
   "metadata": {
    "id": "yRYaSfyCb54t"
   },
   "source": [
    "# label adapter FCN"
   ]
  },
  {
   "cell_type": "markdown",
   "metadata": {
    "id": "04twRITjF6py"
   },
   "source": [
    "## create our datasets"
   ]
  },
  {
   "cell_type": "code",
   "execution_count": 2,
   "metadata": {
    "id": "U2HCK0AnF6pz"
   },
   "outputs": [],
   "source": [
    "import torchvision.transforms as T\n",
    "import torchvision.transforms.functional as F\n",
    "import random\n",
    "#import torchvision.transforms as T\n",
    "#import torchvision.transforms.functional as F\n",
    "import albumentations as albu\n",
    "import random\n",
    "import scipy\n",
    "import torch\n",
    "import os\n",
    "import cv2\n",
    "import numpy as np\n",
    "#from google.colab.patches import cv2_imshow\n",
    "from matplotlib import pyplot as plt\n",
    "import re\n",
    "\n",
    "def get_training_augmentation():\n",
    "    train_transform = [\n",
    "\n",
    "        #albu.HorizontalFlip(p=0.5),\n",
    "        albu.Rotate((-11,11),p=0.5),\n",
    "        albu.PadIfNeeded(min_height=128, min_width=128, always_apply=True, border_mode=0),\n",
    "        #albu.RandomCrop(height=320, width=320, always_apply=True),\n",
    "        albu.Perspective(p=0.4),\n",
    "        #albu.GaussNoise(p=0.2),\n",
    "        #albu.OneOf([albu.CLAHE(p=1),albu.RandomBrightness(p=1),albu.RandomGamma(p=1),],p=0.9,),\n",
    "        #albu.OneOf([albu.Sharpen(p=1),albu.Blur(blur_limit=3, p=1),],p=0.9,),albu.OneOf([albu.RandomContrast(p=1),albu.HueSaturationValue(p=1),],p=0.9,),\n",
    "    ]\n",
    "\n",
    "    return albu.Compose(train_transform)\n",
    "\n",
    "\n",
    "def transformation_augs():\n",
    "    train_transform = [\n",
    "        #albu.HorizontalFlip(p=0.5),\n",
    "\n",
    "    ]\n",
    "    return albu.Compose(train_transform)\n",
    "\n",
    "\n",
    "def get_validation_augmentation():\n",
    "    \"\"\"Add paddings to make image shape divisible by 32\"\"\"\n",
    "    test_transform = [\n",
    "        albu.PadIfNeeded(128, 128)\n",
    "    ]\n",
    "    return albu.Compose(test_transform)\n",
    "\n",
    "class MyDataSet(torch.utils.data.Dataset):\n",
    "\n",
    "  #CLASSES =  [\"background\",\"facial_skin\",\"left_brow\",\"right_brow\",\"left_eye\",\"right_eye\", \"nose\",\"upper_lip\",\"inner_mouth\",\"lower_lip\",\"hair\"]\n",
    "\n",
    "  def __init__(self, images_dir, masks_dir, coords_dir, preprocessing=None, classes=None,augmentation=None, training=True):\n",
    "    super(MyDataSet, self).__init__()\n",
    "    \n",
    "    # store the augmented tensors tensors\n",
    "    #self._x, self._y = x,y\n",
    "    self.preprocessing = preprocessing\n",
    "    self.augmentation = augmentation\n",
    "\n",
    "    self.image_ids = os.listdir(images_dir)\n",
    "\n",
    "    train_slice = int(len(self.image_ids)*0.2)\n",
    "\n",
    "    if training == True:\n",
    "      self.images_fps = [os.path.join(images_dir, image_id) for image_id in self.image_ids][train_slice::]\n",
    "      self.masks_fps = [os.path.join(masks_dir, mask_id) for mask_id in self.image_ids][train_slice::]\n",
    "    else:\n",
    "      self.images_fps = [os.path.join(images_dir, image_id) for image_id in self.image_ids][:train_slice]\n",
    "      self.masks_fps = [os.path.join(masks_dir, mask_id) for mask_id in self.image_ids][:train_slice]\n",
    "\n",
    "  def __len__(self):\n",
    "    # a DataSet must know it size\n",
    "    return len(self.images_fps)\n",
    "\n",
    "  def __getitem__(self, i):\n",
    "\n",
    "    image = cv2.imread(self.images_fps[i], 0)\n",
    "    image = cv2.cvtColor(image, cv2.COLOR_BGR2RGB)\n",
    "    mask = cv2.imread(self.masks_fps[i], cv2.IMREAD_GRAYSCALE)\n",
    "\n",
    "    #print(self.images_fps[i])\n",
    "\n",
    "    sample = self.augmentation(image=image, mask=mask)\n",
    "    image, mask = sample['image'], sample['mask']\n",
    "\n",
    "    image = torch.tensor(image)\n",
    "\n",
    "    #onehot\n",
    "    one_hot_Y = torch.nn.functional.one_hot(torch.tensor(mask).to(torch.int64), 12).float()\n",
    "\n",
    "    return (image.permute(2,0,1).float(), one_hot_Y.permute(2,0,1).float())\n",
    "\n",
    "\n",
    "train_x_path = \"/home/nathan/Documents/final_project/datasets/label_adapter_wood_train/images\"\n",
    "train_y_path = \"/home/nathan/Documents/final_project/datasets/label_adapter_wood_train/masks\"\n",
    "\n",
    "val_x_path = train_x_path\n",
    "val_y_path = train_y_path\n",
    "\n",
    "train_ds2 = MyDataSet(train_x_path, train_y_path, None, augmentation=get_training_augmentation())\n",
    "val_ds2 = MyDataSet(val_x_path, val_y_path, None, training=False, augmentation=get_validation_augmentation())\n"
   ]
  },
  {
   "cell_type": "markdown",
   "metadata": {
    "id": "Wvz1wNuUF6p0"
   },
   "source": [
    "### Data Loader"
   ]
  },
  {
   "cell_type": "code",
   "execution_count": 3,
   "metadata": {
    "id": "lXVQ-_zZF6p1"
   },
   "outputs": [],
   "source": [
    "from torch.utils.data import DataLoader\n",
    "\n",
    "# Get train and val data loaders\n",
    "train_loader2 = DataLoader(train_ds2, batch_size=24, shuffle=True, num_workers=7)\n",
    "valid_loader2 = DataLoader(val_ds2, batch_size=24, shuffle=False, num_workers=7)\n"
   ]
  },
  {
   "cell_type": "markdown",
   "metadata": {},
   "source": [
    "## Sanity Check"
   ]
  },
  {
   "cell_type": "code",
   "execution_count": 4,
   "metadata": {
    "id": "xVCg0SvpF6p3"
   },
   "outputs": [
    {
     "name": "stderr",
     "output_type": "stream",
     "text": [
      "2023-02-17 19:37:59.195968: I tensorflow/core/platform/cpu_feature_guard.cc:193] This TensorFlow binary is optimized with oneAPI Deep Neural Network Library (oneDNN) to use the following CPU instructions in performance-critical operations:  AVX2 FMA\n",
      "To enable them in other operations, rebuild TensorFlow with the appropriate compiler flags.\n",
      "2023-02-17 19:37:59.516453: E tensorflow/stream_executor/cuda/cuda_blas.cc:2981] Unable to register cuBLAS factory: Attempting to register factory for plugin cuBLAS when one has already been registered\n",
      "2023-02-17 19:38:00.739670: W tensorflow/stream_executor/platform/default/dso_loader.cc:64] Could not load dynamic library 'libnvinfer.so.7'; dlerror: libnvinfer.so.7: cannot open shared object file: No such file or directory; LD_LIBRARY_PATH: /home/nathan/miniconda3/lib/python3.9/site-packages/cv2/../../lib64::/home/nathan/miniconda3/lib/:/home/nathan/miniconda3/lib/:/home/nathan/miniconda3/lib/\n",
      "2023-02-17 19:38:00.739919: W tensorflow/stream_executor/platform/default/dso_loader.cc:64] Could not load dynamic library 'libnvinfer_plugin.so.7'; dlerror: libnvinfer_plugin.so.7: cannot open shared object file: No such file or directory; LD_LIBRARY_PATH: /home/nathan/miniconda3/lib/python3.9/site-packages/cv2/../../lib64::/home/nathan/miniconda3/lib/:/home/nathan/miniconda3/lib/:/home/nathan/miniconda3/lib/\n",
      "2023-02-17 19:38:00.739932: W tensorflow/compiler/tf2tensorrt/utils/py_utils.cc:38] TF-TRT Warning: Cannot dlopen some TensorRT libraries. If you would like to use Nvidia GPU with TensorRT, please make sure the missing libraries mentioned above are installed properly.\n",
      "Using TensorFlow backend.\n"
     ]
    },
    {
     "name": "stdout",
     "output_type": "stream",
     "text": [
      "torch.Size([3, 128, 128])\n",
      "torch.Size([12, 128, 128])\n"
     ]
    },
    {
     "data": {
      "image/png": "[encoded data removed]",
      "text/plain": [
       "<Figure size 2000x800 with 2 Axes>"
      ]
     },
     "metadata": {},
     "output_type": "display_data"
    },
    {
     "name": "stdout",
     "output_type": "stream",
     "text": [
      "torch.Size([3, 128, 128])\n",
      "torch.Size([12, 128, 128])\n"
     ]
    },
    {
     "data": {
      "image/png": "[encoded data removed]",
      "text/plain": [
       "<Figure size 2000x800 with 2 Axes>"
      ]
     },
     "metadata": {},
     "output_type": "display_data"
    },
    {
     "name": "stdout",
     "output_type": "stream",
     "text": [
      "torch.Size([3, 128, 128])\n",
      "torch.Size([12, 128, 128])\n"
     ]
    },
    {
     "data": {
      "image/png": "[encoded data removed]",
      "text/plain": [
       "<Figure size 2000x800 with 2 Axes>"
      ]
     },
     "metadata": {},
     "output_type": "display_data"
    }
   ],
   "source": [
    "from PIL import ImageFilter\n",
    "from scipy import ndimage\n",
    "from collections import Counter\n",
    "import label_test_script\n",
    "\n",
    "\n",
    "for x in range(2):\n",
    "\n",
    "    image_vis, gt_mask = train_ds2[x]\n",
    "    print(image_vis.shape)\n",
    "    print(gt_mask.shape)\n",
    "\n",
    "    reverse = label_test_script.reverse_one_hot(gt_mask)\n",
    "\n",
    "    skin_kernel = np.ones((4,4))\n",
    "\n",
    "    tmp = scipy.ndimage.convolve(np.array(reverse), skin_kernel, mode='constant')\n",
    "    filter = np.array(np.logical_and(np.array(tmp) >= 1, reverse)).astype(np.float32)\n",
    "\n",
    "    label_test_script.visualize(\n",
    "        original_image = image_vis[0,::],\n",
    "        ground_truth_mask = reverse,\n",
    "        #skin_kernel  = (filter),\n",
    "    )\n",
    "\n",
    "for x in range(1):\n",
    "\n",
    "    image_vis, gt_mask = val_ds2[x]\n",
    "    print(image_vis.shape)\n",
    "    print(gt_mask.shape)\n",
    "\n",
    "    reverse = label_test_script.reverse_one_hot(gt_mask)\n",
    "\n",
    "    skin_kernel = np.ones((4,4))\n",
    "\n",
    "    tmp = scipy.ndimage.convolve(np.array(reverse), skin_kernel, mode='constant')\n",
    "    filter = np.array(np.logical_and(np.array(tmp) >= 1, reverse)).astype(np.float32)\n",
    "\n",
    "    label_test_script.visualize(\n",
    "        original_image = image_vis[0,::],\n",
    "        ground_truth_mask = reverse,\n",
    "        #skin_kernel  = (filter),\n",
    "    )"
   ]
  },
  {
   "cell_type": "markdown",
   "metadata": {},
   "source": [
    "# custom FCN label adapter train"
   ]
  },
  {
   "cell_type": "code",
   "execution_count": 5,
   "metadata": {},
   "outputs": [],
   "source": [
    "import torch.nn as nn\n",
    "from torchvision import models, datasets, transforms, utils\n",
    "from torchvision.models.vgg import VGG\n",
    "\n",
    "class VGG16(VGG):\n",
    "  \n",
    "  def __init__(self, cfg, ranges, pretrained=True, model='vgg16', requires_grad=True, remove_fc=True, show_params=False):\n",
    "    super().__init__(self.make_layers(cfg[model]))\n",
    "    \n",
    "    self.ranges = ranges[model]\n",
    "        \n",
    "    if pretrained:\n",
    "      exec(\"self.load_state_dict(models.%s(pretrained=True).state_dict())\" % model)\n",
    "    if not requires_grad:\n",
    "      for parameter in super().parameters():\n",
    "        parameter.requires_grad = False\n",
    "    if remove_fc: \n",
    "      del self.classifier\n",
    "    if show_params:\n",
    "      for name, parameter in self.named_parameters():\n",
    "        print(name, parameter.size())\n",
    "        \n",
    "  def forward(self, x):\n",
    "    output = {}\n",
    "    \n",
    "    # Get the output of each maxpooling layer (There are 5 in VGG) to create skip connections.\n",
    "    for idx in range(len(self.ranges)):\n",
    "      for layer in range(self.ranges[idx][0], self.ranges[idx][1]):\n",
    "        x = self.features[layer](x)\n",
    "      output[\"pool%d\"%(idx+1)] = x\n",
    "    \n",
    "    return output \n",
    "  \n",
    "  def make_layers(self, cfg, batch_norm=False):\n",
    "    layers = []\n",
    "    in_channels = 3\n",
    "    for v in cfg:\n",
    "      if v == 'M':\n",
    "        layers += [nn.MaxPool2d(kernel_size=2, stride=2)]\n",
    "      else:\n",
    "        conv2d = nn.Conv2d(in_channels, v, kernel_size=3, padding=1)\n",
    "        if batch_norm:\n",
    "          layers += [conv2d, nn.BatchNorm2d(v), nn.ReLU(inplace=True)]\n",
    "        else:\n",
    "          layers += [conv2d, nn.ReLU(inplace=True)]\n",
    "        in_channels = v\n",
    "    return nn.Sequential(*layers)\n",
    "\n",
    "class FCN8s(nn.Module):\n",
    "  \n",
    "  def __init__(self, pretrained_model, n_classes):\n",
    "    super().__init__()\n",
    "    \n",
    "    self.n_classes = n_classes\n",
    "    self.pretrained_model = pretrained_model\n",
    "    # Transposed convolutions (to upsampling previous layers)\n",
    "    self.relu = nn.ReLU(inplace=True)\n",
    "    self.deconv1 = nn.ConvTranspose2d(512, 512, 3, 2, padding=1, dilation=1, output_padding=1)\n",
    "    self.bn1 = nn.BatchNorm2d(512)\n",
    "    self.deconv2 = nn.ConvTranspose2d(512, 256, 3, 2, padding=1, dilation=1, output_padding=1)\n",
    "    self.bn2 = nn.BatchNorm2d(256)\n",
    "    self.deconv3 = nn.ConvTranspose2d(256, 128, 3, 2, padding=1, dilation=1, output_padding=1)\n",
    "    self.bn3 = nn.BatchNorm2d(128)\n",
    "    self.deconv4 = nn.ConvTranspose2d(128,  64, 3, 2, padding=1, dilation=1, output_padding=1)\n",
    "    self.bn4 = nn.BatchNorm2d(64)\n",
    "    self.deconv5 = nn.ConvTranspose2d( 64,  32, 3, 2, padding=1, dilation=1, output_padding=1)\n",
    "    self.bn5 = nn.BatchNorm2d(32)\n",
    "    # Convolutional score layer (replace the FC layers)\n",
    "    self.score = nn.Conv2d(32, n_classes, 1)\n",
    "  \n",
    "  def forward(self, x):\n",
    "    x = self.pretrained_model(x)\n",
    "    \n",
    "    # Skip connections (connect the output of one layer to a non-adjacent layer)\n",
    "    pool_5 = x['pool5']\n",
    "    pool_4 = x['pool4']\n",
    "    pool_3 = x['pool3']\n",
    "    \n",
    "    x = self.relu(self.deconv1(pool_5))\n",
    "    x = self.bn1(x + pool_4)\n",
    "    x = self.relu(self.deconv2(x))\n",
    "    x = self.bn2(x + pool_3)\n",
    "    x = self.bn3(self.relu(self.deconv3(x)))\n",
    "    x = self.bn4(self.relu(self.deconv4(x)))\n",
    "    x = self.bn5(self.relu(self.deconv5(x)))\n",
    "    x = self.score(x)\n",
    "    \n",
    "    return x"
   ]
  },
  {
   "cell_type": "code",
   "execution_count": 6,
   "metadata": {},
   "outputs": [],
   "source": [
    "ranges = {'vgg16': ((0, 5), (5, 10), (10, 17), (17, 24), (24, 31))}\n",
    "cfg = {'vgg16': [64, 64, 'M', 128, 128, 'M', 256, 256, 256, 'M', 512, 512, 512, 'M', 512, 512, 512, 'M'],}"
   ]
  },
  {
   "cell_type": "code",
   "execution_count": 7,
   "metadata": {},
   "outputs": [
    {
     "data": {
      "text/plain": [
       "device(type='cuda', index=0)"
      ]
     },
     "execution_count": 7,
     "metadata": {},
     "output_type": "execute_result"
    }
   ],
   "source": [
    "device = torch.device(\"cuda:0\" if torch.cuda.is_available() else \"cpu\")\n",
    "device "
   ]
  },
  {
   "cell_type": "code",
   "execution_count": 9,
   "metadata": {},
   "outputs": [
    {
     "ename": "KeyboardInterrupt",
     "evalue": "",
     "output_type": "error",
     "traceback": [
      "\u001b[0;31m---------------------------------------------------------------------------\u001b[0m",
      "\u001b[0;31mKeyboardInterrupt\u001b[0m                         Traceback (most recent call last)",
      "Cell \u001b[0;32mIn [9], line 23\u001b[0m\n\u001b[1;32m     21\u001b[0m output \u001b[38;5;241m=\u001b[39m fcn(inputs)\n\u001b[1;32m     22\u001b[0m \u001b[38;5;66;03m#output = torch.sigmoid(output)\u001b[39;00m\n\u001b[0;32m---> 23\u001b[0m loss \u001b[38;5;241m=\u001b[39m criterion(output\u001b[38;5;241m.\u001b[39mto(device), labels)\n\u001b[1;32m     24\u001b[0m loss\u001b[38;5;241m.\u001b[39mbackward()\n\u001b[1;32m     25\u001b[0m optimizer\u001b[38;5;241m.\u001b[39mstep()\n",
      "File \u001b[0;32m~/miniconda3/lib/python3.9/site-packages/torch/nn/modules/module.py:1130\u001b[0m, in \u001b[0;36mModule._call_impl\u001b[0;34m(self, *input, **kwargs)\u001b[0m\n\u001b[1;32m   <a href='file:///home/nathan/miniconda3/lib/python3.9/site-packages/torch/nn/modules/module.py?line=1125'>1126</a>\u001b[0m \u001b[39m# If we don't have any hooks, we want to skip the rest of the logic in\u001b[39;00m\n\u001b[1;32m   <a href='file:///home/nathan/miniconda3/lib/python3.9/site-packages/torch/nn/modules/module.py?line=1126'>1127</a>\u001b[0m \u001b[39m# this function, and just call forward.\u001b[39;00m\n\u001b[1;32m   <a href='file:///home/nathan/miniconda3/lib/python3.9/site-packages/torch/nn/modules/module.py?line=1127'>1128</a>\u001b[0m \u001b[39mif\u001b[39;00m \u001b[39mnot\u001b[39;00m (\u001b[39mself\u001b[39m\u001b[39m.\u001b[39m_backward_hooks \u001b[39mor\u001b[39;00m \u001b[39mself\u001b[39m\u001b[39m.\u001b[39m_forward_hooks \u001b[39mor\u001b[39;00m \u001b[39mself\u001b[39m\u001b[39m.\u001b[39m_forward_pre_hooks \u001b[39mor\u001b[39;00m _global_backward_hooks\n\u001b[1;32m   <a href='file:///home/nathan/miniconda3/lib/python3.9/site-packages/torch/nn/modules/module.py?line=1128'>1129</a>\u001b[0m         \u001b[39mor\u001b[39;00m _global_forward_hooks \u001b[39mor\u001b[39;00m _global_forward_pre_hooks):\n\u001b[0;32m-> <a href='file:///home/nathan/miniconda3/lib/python3.9/site-packages/torch/nn/modules/module.py?line=1129'>1130</a>\u001b[0m     \u001b[39mreturn\u001b[39;00m forward_call(\u001b[39m*\u001b[39;49m\u001b[39minput\u001b[39;49m, \u001b[39m*\u001b[39;49m\u001b[39m*\u001b[39;49mkwargs)\n\u001b[1;32m   <a href='file:///home/nathan/miniconda3/lib/python3.9/site-packages/torch/nn/modules/module.py?line=1130'>1131</a>\u001b[0m \u001b[39m# Do not call functions when jit is used\u001b[39;00m\n\u001b[1;32m   <a href='file:///home/nathan/miniconda3/lib/python3.9/site-packages/torch/nn/modules/module.py?line=1131'>1132</a>\u001b[0m full_backward_hooks, non_full_backward_hooks \u001b[39m=\u001b[39m [], []\n",
      "File \u001b[0;32m~/miniconda3/lib/python3.9/site-packages/torch/nn/modules/loss.py:714\u001b[0m, in \u001b[0;36mBCEWithLogitsLoss.forward\u001b[0;34m(self, input, target)\u001b[0m\n\u001b[1;32m    <a href='file:///home/nathan/miniconda3/lib/python3.9/site-packages/torch/nn/modules/loss.py?line=712'>713</a>\u001b[0m \u001b[39mdef\u001b[39;00m \u001b[39mforward\u001b[39m(\u001b[39mself\u001b[39m, \u001b[39minput\u001b[39m: Tensor, target: Tensor) \u001b[39m-\u001b[39m\u001b[39m>\u001b[39m Tensor:\n\u001b[0;32m--> <a href='file:///home/nathan/miniconda3/lib/python3.9/site-packages/torch/nn/modules/loss.py?line=713'>714</a>\u001b[0m     \u001b[39mreturn\u001b[39;00m F\u001b[39m.\u001b[39;49mbinary_cross_entropy_with_logits(\u001b[39minput\u001b[39;49m, target,\n\u001b[1;32m    <a href='file:///home/nathan/miniconda3/lib/python3.9/site-packages/torch/nn/modules/loss.py?line=714'>715</a>\u001b[0m                                               \u001b[39mself\u001b[39;49m\u001b[39m.\u001b[39;49mweight,\n\u001b[1;32m    <a href='file:///home/nathan/miniconda3/lib/python3.9/site-packages/torch/nn/modules/loss.py?line=715'>716</a>\u001b[0m                                               pos_weight\u001b[39m=\u001b[39;49m\u001b[39mself\u001b[39;49m\u001b[39m.\u001b[39;49mpos_weight,\n\u001b[1;32m    <a href='file:///home/nathan/miniconda3/lib/python3.9/site-packages/torch/nn/modules/loss.py?line=716'>717</a>\u001b[0m                                               reduction\u001b[39m=\u001b[39;49m\u001b[39mself\u001b[39;49m\u001b[39m.\u001b[39;49mreduction)\n",
      "File \u001b[0;32m~/miniconda3/lib/python3.9/site-packages/torch/nn/functional.py:3150\u001b[0m, in \u001b[0;36mbinary_cross_entropy_with_logits\u001b[0;34m(input, target, weight, size_average, reduce, reduction, pos_weight)\u001b[0m\n\u001b[1;32m   <a href='file:///home/nathan/miniconda3/lib/python3.9/site-packages/torch/nn/functional.py?line=3146'>3147</a>\u001b[0m \u001b[39mif\u001b[39;00m \u001b[39mnot\u001b[39;00m (target\u001b[39m.\u001b[39msize() \u001b[39m==\u001b[39m \u001b[39minput\u001b[39m\u001b[39m.\u001b[39msize()):\n\u001b[1;32m   <a href='file:///home/nathan/miniconda3/lib/python3.9/site-packages/torch/nn/functional.py?line=3147'>3148</a>\u001b[0m     \u001b[39mraise\u001b[39;00m \u001b[39mValueError\u001b[39;00m(\u001b[39m\"\u001b[39m\u001b[39mTarget size (\u001b[39m\u001b[39m{}\u001b[39;00m\u001b[39m) must be the same as input size (\u001b[39m\u001b[39m{}\u001b[39;00m\u001b[39m)\u001b[39m\u001b[39m\"\u001b[39m\u001b[39m.\u001b[39mformat(target\u001b[39m.\u001b[39msize(), \u001b[39minput\u001b[39m\u001b[39m.\u001b[39msize()))\n\u001b[0;32m-> <a href='file:///home/nathan/miniconda3/lib/python3.9/site-packages/torch/nn/functional.py?line=3149'>3150</a>\u001b[0m \u001b[39mreturn\u001b[39;00m torch\u001b[39m.\u001b[39;49mbinary_cross_entropy_with_logits(\u001b[39minput\u001b[39;49m, target, weight, pos_weight, reduction_enum)\n",
      "\u001b[0;31mKeyboardInterrupt\u001b[0m: "
     ]
    }
   ],
   "source": [
    "from torch import optim\n",
    "from torch.optim.lr_scheduler import ExponentialLR\n",
    "\n",
    "num_classes = 12\n",
    "\n",
    "fcn = FCN8s(VGG16(cfg,ranges), num_classes)\n",
    "fcn.to(device)\n",
    "\n",
    "criterion = nn.BCEWithLogitsLoss()\n",
    "optimizer = torch.optim.Adam([dict(params=fcn.parameters(), lr=0.001)])\n",
    "scheduler = ExponentialLR(optimizer, gamma=0.9)\n",
    "\n",
    "low_loss = 5\n",
    "for epoch in range(10):\n",
    "  for i, batch in enumerate(train_loader2):\n",
    "    inputs, labels = batch\n",
    "    inputs = inputs.to(device)\n",
    "    labels = labels.to(device)\n",
    "    optimizer.zero_grad()\n",
    "    #print(output.shape, labels.shape)\n",
    "    output = fcn(inputs)\n",
    "    #output = torch.sigmoid(output)\n",
    "    loss = criterion(output.to(device), labels)\n",
    "    loss.backward()\n",
    "    optimizer.step()\n",
    "    #scheduler.step()\n",
    "    fcn.eval()\n",
    "    if loss.item() < low_loss:\n",
    "      low_loss = loss.item()\n",
    "      print(\"saving model:\", loss.item())\n",
    "      torch.save(fcn.state_dict(), \"/home/nathan/Documents/final_project/saved_models/label_adapted_wood_old.pth\")\n",
    "    print(\"epoch: {}, i: {}, loss: {:.5f}\".format(epoch, i, loss.item()),  end=\"\\r\")\n",
    "    fcn.train()\n"
   ]
  },
  {
   "cell_type": "code",
   "execution_count": null,
   "metadata": {},
   "outputs": [],
   "source": [
    "DEVICE=\"cuda:0\"\n",
    "rgb_vals = [ 0,1,2,3,4,5,6,7,8,9,10,11]\n",
    "\n",
    "model = fcn\n",
    "model.load_state_dict(torch.load('/home/nathan/Documents/final_project/saved_models/label_adapted_wood.pth'))\n",
    "\n",
    "view_label_predictions(model,val_ds2, num_classes)"
   ]
  }
 ],
 "metadata": {
  "interpreter": {
   "hash": "01070a215043f07a8263edac27ed84a056fb8ad0ef2223506d9cf2bf6f4d5c3c"
  },
  "kernelspec": {
   "display_name": "Python 3.9.12 ('base')",
   "language": "python",
   "name": "python3"
  },
  "language_info": {
   "codemirror_mode": {
    "name": "ipython",
    "version": 3
   },
   "file_extension": ".py",
   "mimetype": "text/x-python",
   "name": "python",
   "nbconvert_exporter": "python",
   "pygments_lexer": "ipython3",
   "version": "3.9.12"
  },
  "orig_nbformat": 4
 },
 "nbformat": 4,
 "nbformat_minor": 2
}
